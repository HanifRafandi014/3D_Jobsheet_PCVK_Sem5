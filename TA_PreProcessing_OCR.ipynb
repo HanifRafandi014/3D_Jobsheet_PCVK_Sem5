{
  "nbformat": 4,
  "nbformat_minor": 0,
  "metadata": {
    "colab": {
      "provenance": [],
      "authorship_tag": "ABX9TyN6Li6Oi80wReM+xITmrFZu",
      "include_colab_link": true
    },
    "kernelspec": {
      "name": "python3",
      "display_name": "Python 3"
    },
    "language_info": {
      "name": "python"
    }
  },
  "cells": [
    {
      "cell_type": "markdown",
      "metadata": {
        "id": "view-in-github",
        "colab_type": "text"
      },
      "source": [
        "<a href=\"https://colab.research.google.com/github/HanifRafandi014/3D_Jobsheet_PCVK_Sem5/blob/master/TA_PreProcessing_OCR.ipynb\" target=\"_parent\"><img src=\"https://colab.research.google.com/assets/colab-badge.svg\" alt=\"Open In Colab\"/></a>"
      ]
    },
    {
      "cell_type": "markdown",
      "source": [
        "# **Pre Processing Image and Character KTM with CNN**"
      ],
      "metadata": {
        "id": "K3UyxCVmXdJM"
      }
    },
    {
      "cell_type": "code",
      "execution_count": null,
      "metadata": {
        "id": "EErlx7guXUrS"
      },
      "outputs": [],
      "source": [
        "from google.colab import drive\n",
        "drive.mount('/content/drive')"
      ]
    },
    {
      "cell_type": "markdown",
      "source": [
        "**Import Library**"
      ],
      "metadata": {
        "id": "zGJoBZv1XpEh"
      }
    },
    {
      "cell_type": "code",
      "source": [],
      "metadata": {
        "id": "XpVR4I8qXrZJ"
      },
      "execution_count": null,
      "outputs": []
    },
    {
      "cell_type": "markdown",
      "source": [
        "**Process**"
      ],
      "metadata": {
        "id": "kMmD8vaXXtI9"
      }
    },
    {
      "cell_type": "code",
      "source": [],
      "metadata": {
        "id": "yuc3-totXyed"
      },
      "execution_count": null,
      "outputs": []
    }
  ]
}